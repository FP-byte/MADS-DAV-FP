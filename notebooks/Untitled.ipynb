{
 "cells": [
  {
   "cell_type": "markdown",
   "id": "4b1c8f61",
   "metadata": {},
   "source": [
    "#  Python Paths"
   ]
  },
  {
   "cell_type": "code",
   "execution_count": null,
   "id": "d0da6965",
   "metadata": {},
   "outputs": [],
   "source": []
  },
  {
   "cell_type": "code",
   "execution_count": 2,
   "id": "0fc6814d",
   "metadata": {},
   "outputs": [
    {
     "name": "stdout",
     "output_type": "stream",
     "text": [
      "C:\\Users\\Francesca\\Documents\\osint\\code_repo\\AI\\MADS-DAV-FP\\notebooks\n"
     ]
    }
   ],
   "source": [
    "import os\n",
    "\n",
    "print(os.getcwd())"
   ]
  },
  {
   "cell_type": "code",
   "execution_count": 5,
   "id": "135cf3a3",
   "metadata": {},
   "outputs": [
    {
     "name": "stdout",
     "output_type": "stream",
     "text": [
      "None\n",
      "C:\\Users\\Francesca\\Documents\\osint\\code_repo\n"
     ]
    }
   ],
   "source": [
    "print(os.chdir('..'))\n",
    "print(os.getcwd())"
   ]
  },
  {
   "cell_type": "code",
   "execution_count": 6,
   "id": "0c686adb",
   "metadata": {},
   "outputs": [
    {
     "name": "stdout",
     "output_type": "stream",
     "text": [
      "['.ipynb_checkpoints', 'AI', 'AI.ipynb', 'chatscrips', 'Create a dataset from python.ipynb', 'cursus', 'daniel', 'FIU-productie_splitfunctieDannyv9AllVTS.py', 'genymotion-3.5.1.exe', 'hackathon', 'hidden_friends_url_script.txt', 'Insomnia.Core-8.4.5.exe', 'ip-taptool', 'nfi', 'OllamaSetup.exe', 'osint-tool', 'osint_scripts', 'profielzoeker-nova-docker', 'r3mlab_datajournalism-resources_ A compilation of links to datajournalism & OSINT tools, guides and resources I find useful to keep at hand..html', 'SoCS-Chapter-2.1.pptx', 'talkwalker lexis nexis .txt', 'tampermonkey', 'test_package', 'tkinter_gui', 'Udacity', 'Whisper', 'younameit']\n"
     ]
    }
   ],
   "source": [
    "print(os.listdir())"
   ]
  },
  {
   "cell_type": "code",
   "execution_count": 12,
   "id": "6ec1fecd",
   "metadata": {},
   "outputs": [
    {
     "name": "stdout",
     "output_type": "stream",
     "text": [
      "None\n"
     ]
    }
   ],
   "source": [
    "print(os.chdir('AI'))"
   ]
  },
  {
   "cell_type": "code",
   "execution_count": 13,
   "id": "414fdc78",
   "metadata": {},
   "outputs": [
    {
     "name": "stdout",
     "output_type": "stream",
     "text": [
      "['.ipynb_checkpoints', 'AI VOOR OSINT.docx', 'ALBERT - Research Notes & FAQs.docx', 'ALBERT eBook.docx', 'BERT_Document_Classification_Tutorial_with_Code.ipynb', 'Building_QA_Datasets_SOLUTION.ipynb', 'Building_QA_Datasets_STARTER.ipynb', 'Causal LM Datasets.ipynb', 'DAV', 'deep-entity-recognition-master.zip', 'download-model.py', 'fiat_bianchina_cabriolet.png', 'fiat_bianchina_cabriolet2.png', 'fiat_bianchina_cabriolet_logo.png', 'Fine_Tune_BERT_on_SQuAD_v1_1.ipynb', 'generated', 'generative-models', 'hugging-face-tokenizer.html', 'installatie_notities.txt', 'MADS-DAV-FP', 'models', 'OSINTwizard', 'packet_raptor', 'pcap_visualisatie', 'privateGPT', 'privategpt.ipynb', 'programming voor DS', 'Question_Answering_with_a_Fine_Tuned_BERT.ipynb', 'Research Skills', 'scapy-ssl_tls', 'server.py', 'simple_patterns.ipynb', 'Simple_Scraper_STARTER.html', 'stable-diffusion-webui_2', 'test_data', 'Untitled.ipynb', 'yesitsme']\n",
      "C:\\Users\\Francesca\\Documents\\osint\\code_repo\\AI\n"
     ]
    }
   ],
   "source": [
    "print(os.listdir())\n",
    "print(os.getcwd())"
   ]
  },
  {
   "cell_type": "code",
   "execution_count": null,
   "id": "6db6ccc9",
   "metadata": {},
   "outputs": [],
   "source": [
    "import sys\n",
    "\n",
    "#import your package code to the environment variable \n",
    "sys.path.append(\"../src\")"
   ]
  }
 ],
 "metadata": {
  "kernelspec": {
   "display_name": "Python 3",
   "language": "python",
   "name": "python3"
  },
  "language_info": {
   "codemirror_mode": {
    "name": "ipython",
    "version": 3
   },
   "file_extension": ".py",
   "mimetype": "text/x-python",
   "name": "python",
   "nbconvert_exporter": "python",
   "pygments_lexer": "ipython3",
   "version": "3.8.16"
  }
 },
 "nbformat": 4,
 "nbformat_minor": 5
}
