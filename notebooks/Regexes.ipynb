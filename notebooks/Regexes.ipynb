{
 "cells": [
  {
   "cell_type": "markdown",
   "id": "cf51ff3d",
   "metadata": {},
   "source": [
    "# Regex"
   ]
  },
  {
   "cell_type": "markdown",
   "id": "6fa164df",
   "metadata": {},
   "source": [
    "^ line starts with - ^A starts with A\n",
    "\n",
    "$ line ends with \n",
    "\n",
    ". any char except new line\n",
    "\n",
    "[Bb] (Or): match eigher B or b\n",
    "\n",
    "[a-zA-Z]\n",
    "\n",
    "[0-9]\n",
    "\n",
    "a* zero or more\n",
    "\n",
    "a+ one or more (minstens)\n",
    "\n",
    "a{3} exactly three a\n",
    "\n",
    "a{2,5} two to five \n",
    "\n",
    "[a-z]+\n",
    "\n",
    "a{4,6} match 4 to six a's in a row\n",
    "\n",
    "[^a-z] (not in range)\n",
    "\n",
    "Shortcuts:\n",
    "\n",
    "\\w (any word char= letter, number, underscore)\n",
    "\n",
    "\\s (whitespace)\n",
    "\n",
    "\\d (digit)\n",
    "\n",
    "lookahead (?=...) Match a group after th emain expression without including it in the result\n",
    "\n",
    "lookbehind (?<=...) match a group befor the main expr without including it in the result\n",
    "\n",
    "(?<=:)\\s*\\w\n",
    "\n",
    "\n",
    "\n",
    "\n"
   ]
  },
  {
   "cell_type": "code",
   "execution_count": null,
   "id": "9eca7407",
   "metadata": {},
   "outputs": [],
   "source": [
    "pattern= \"[a-z]\"\n",
    "# replace patter with \"\"\n",
    "re.sub(patter, \"\")"
   ]
  }
 ],
 "metadata": {
  "kernelspec": {
   "display_name": "Python 3",
   "language": "python",
   "name": "python3"
  },
  "language_info": {
   "codemirror_mode": {
    "name": "ipython",
    "version": 3
   },
   "file_extension": ".py",
   "mimetype": "text/x-python",
   "name": "python",
   "nbconvert_exporter": "python",
   "pygments_lexer": "ipython3",
   "version": "3.8.16"
  }
 },
 "nbformat": 4,
 "nbformat_minor": 5
}
